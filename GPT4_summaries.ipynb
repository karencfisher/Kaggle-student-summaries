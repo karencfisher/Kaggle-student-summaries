{
 "cells": [
  {
   "cell_type": "code",
   "execution_count": 3,
   "metadata": {},
   "outputs": [],
   "source": [
    "from dotenv import load_dotenv\n",
    "from tqdm.notebook import tqdm\n",
    "import openai\n",
    "import pandas as pd\n",
    "import os\n",
    "import sys\n",
    "import matplotlib.pyplot as plt\n",
    "import seaborn as sns\n",
    "import json"
   ]
  },
  {
   "cell_type": "code",
   "execution_count": 4,
   "metadata": {},
   "outputs": [],
   "source": [
    "load_dotenv()\n",
    "openai.api_key = os.getenv('OPENAI_API_KEY')"
   ]
  },
  {
   "cell_type": "code",
   "execution_count": 5,
   "metadata": {},
   "outputs": [
    {
     "data": {
      "text/html": [
       "<div>\n",
       "<style scoped>\n",
       "    .dataframe tbody tr th:only-of-type {\n",
       "        vertical-align: middle;\n",
       "    }\n",
       "\n",
       "    .dataframe tbody tr th {\n",
       "        vertical-align: top;\n",
       "    }\n",
       "\n",
       "    .dataframe thead th {\n",
       "        text-align: right;\n",
       "    }\n",
       "</style>\n",
       "<table border=\"1\" class=\"dataframe\">\n",
       "  <thead>\n",
       "    <tr style=\"text-align: right;\">\n",
       "      <th></th>\n",
       "      <th>prompt_id</th>\n",
       "      <th>prompt_question</th>\n",
       "      <th>prompt_title</th>\n",
       "      <th>prompt_text</th>\n",
       "    </tr>\n",
       "  </thead>\n",
       "  <tbody>\n",
       "    <tr>\n",
       "      <th>0</th>\n",
       "      <td>39c16e</td>\n",
       "      <td>Summarize at least 3 elements of an ideal trag...</td>\n",
       "      <td>On Tragedy</td>\n",
       "      <td>Chapter 13  As the sequel to what has already ...</td>\n",
       "    </tr>\n",
       "    <tr>\n",
       "      <th>1</th>\n",
       "      <td>3b9047</td>\n",
       "      <td>In complete sentences, summarize the structure...</td>\n",
       "      <td>Egyptian Social Structure</td>\n",
       "      <td>Egyptian society was structured like a pyramid...</td>\n",
       "    </tr>\n",
       "    <tr>\n",
       "      <th>2</th>\n",
       "      <td>814d6b</td>\n",
       "      <td>Summarize how the Third Wave developed over su...</td>\n",
       "      <td>The Third Wave</td>\n",
       "      <td>Background  The Third Wave experiment took pla...</td>\n",
       "    </tr>\n",
       "    <tr>\n",
       "      <th>3</th>\n",
       "      <td>ebad26</td>\n",
       "      <td>Summarize the various ways the factory would u...</td>\n",
       "      <td>Excerpt from The Jungle</td>\n",
       "      <td>With one member trimming beef in a cannery, an...</td>\n",
       "    </tr>\n",
       "  </tbody>\n",
       "</table>\n",
       "</div>"
      ],
      "text/plain": [
       "  prompt_id                                    prompt_question  \\\n",
       "0    39c16e  Summarize at least 3 elements of an ideal trag...   \n",
       "1    3b9047  In complete sentences, summarize the structure...   \n",
       "2    814d6b  Summarize how the Third Wave developed over su...   \n",
       "3    ebad26  Summarize the various ways the factory would u...   \n",
       "\n",
       "                prompt_title  \\\n",
       "0                 On Tragedy   \n",
       "1  Egyptian Social Structure   \n",
       "2             The Third Wave   \n",
       "3    Excerpt from The Jungle   \n",
       "\n",
       "                                         prompt_text  \n",
       "0  Chapter 13  As the sequel to what has already ...  \n",
       "1  Egyptian society was structured like a pyramid...  \n",
       "2  Background  The Third Wave experiment took pla...  \n",
       "3  With one member trimming beef in a cannery, an...  "
      ]
     },
     "execution_count": 5,
     "metadata": {},
     "output_type": "execute_result"
    }
   ],
   "source": [
    "prompts_df = pd.read_csv(os.path.join('data', 'prompts_train.csv'))\n",
    "prompts_df['prompt_text'] = prompts_df['prompt_text'].apply(lambda x: x.replace('\\r\\n', ' '))\n",
    "prompts_df.head()"
   ]
  },
  {
   "cell_type": "code",
   "execution_count": 6,
   "metadata": {},
   "outputs": [],
   "source": [
    "questions = prompts_df['prompt_question'].values\n",
    "texts = prompts_df['prompt_text'].values\n"
   ]
  },
  {
   "cell_type": "code",
   "execution_count": 7,
   "metadata": {},
   "outputs": [],
   "source": [
    "prompt_template = '''\n",
    "You are a school literature teacher preparing a test in which you want to have your\n",
    "students answer a question about a piece of writing. You want to have a baseline\n",
    "to compare their answers with what you expect, in terms of ther expressing the \n",
    "main idea of the text, supportive details, in a coherent short essay of under 100\n",
    "words. Your students may vary in grades 3 to 12, so you will need to consider the \n",
    "differing levels of reading, comprehension, and lexicon, and write an answer at each\n",
    "level. (You will write three answers for each question.)\n",
    "\n",
    "Here is the orignal text: ```{text}```\n",
    "\n",
    "Here is the question they are to answer: ```{question}```\n",
    "\n",
    "Respond with three answers, each appropriate for each of the three grade levels, grades 3-5, \n",
    "6-8, and 9-12. Use the following JSON template for your answers:\n",
    "\n",
    "'''\n",
    "\n",
    "json_template = '''\n",
    "{\"grades 3-5\": <answer at elementary level>,\n",
    " \"grades 6-8\": <answer at junior high school level>,\n",
    " \"grades 6-9\": <answer at highs chool level>}\n",
    "'''\n"
   ]
  },
  {
   "cell_type": "code",
   "execution_count": 8,
   "metadata": {},
   "outputs": [
    {
     "data": {
      "application/vnd.jupyter.widget-view+json": {
       "model_id": "9b2e062f058b49fea69f11f35e21d470",
       "version_major": 2,
       "version_minor": 0
      },
      "text/plain": [
       "  0%|          | 0/4 [00:00<?, ?it/s]"
      ]
     },
     "metadata": {},
     "output_type": "display_data"
    }
   ],
   "source": [
    "GPT4_answers = []\n",
    "for index in tqdm(range(len(questions))):\n",
    "    prompt = prompt_template.format(text=texts[index], question=questions[index])\n",
    "    prompt += json_template\n",
    "    message = [{'role': 'user', 'content': prompt}]\n",
    "\n",
    "    response = openai.ChatCompletion.create(\n",
    "        model=\"gpt-4\",\n",
    "        messages = message,\n",
    "        temperature=0\n",
    "    )\n",
    "\n",
    "    GPT4_answers.append(response.choices[0].message.content)\n",
    "    \n",
    "    "
   ]
  },
  {
   "cell_type": "code",
   "execution_count": 9,
   "metadata": {},
   "outputs": [
    {
     "data": {
      "text/plain": [
       "['{\"grades 3-5\": \"Aristotle says a good tragedy story should have a few things. First, it should be a complex story, not a simple one. Second, it should make us feel pity and fear. Third, the main character should not be very good or very bad, but somewhere in the middle. They should have a big problem or mistake that causes them to go from happy to sad.\",\\n\\n \"grades 6-8\": \"According to Aristotle, an ideal tragedy should have three main elements. Firstly, it should have a complex plot, not a simple one. Secondly, it should imitate actions that cause feelings of pity and fear. Lastly, the main character should not be extremely good or bad, but somewhere in between. Their downfall should be caused by a mistake or weakness, not because they are evil.\",\\n\\n \"grades 9-12\": \"Aristotle outlines three key elements of an ideal tragedy. Firstly, the plot should be complex rather than simple. Secondly, the actions within the plot should evoke feelings of pity and fear, which are the distinctive marks of tragic imitation. Lastly, the protagonist should be a character who is not exceptionally virtuous or wicked, but rather somewhere in between. Their downfall should be brought about not by vice or depravity, but by an error of judgement or frailty.\"}',\n",
       " '{\"grades 3-5\": \"The ancient Egyptian government was like a pyramid. At the top were the gods and pharaohs, who were leaders believed to be gods. They made all the laws and protected the people. Below them were the vizier, who helped the pharaoh, and scribes who could read and write. Then came nobles and priests, who were very important and rich. Soldiers, doctors, and craftsmen were in the middle. At the bottom were slaves and farmers. Some people could move up in this system, like farmers\\' sons who learned to read and write.\",\\n\\n \"grades 6-8\": \"The ancient Egyptian government was structured like a pyramid, with gods and pharaohs at the top. Pharaohs were considered gods in human form and had absolute power. They were assisted by a vizier and scribes. Below them were nobles and priests, who held government posts and were responsible for pleasing the gods. Soldiers, physicians, and craftsmen made up the middle class, while merchants and storekeepers sold goods to the public. At the bottom were slaves and farmers. However, social mobility was possible, especially through education and government employment.\",\\n\\n \"grades 9-12\": \"The ancient Egyptian government was a theocratic system with a hierarchical structure. At the apex were the gods and pharaohs, who were considered divine and wielded absolute power. They were assisted by a vizier, who supervised tax collection, and scribes, who maintained government records. Nobles and priests, who held government posts and were responsible for religious duties, were next in line. The middle class consisted of soldiers, physicians, and craftsmen, while merchants and storekeepers formed the trading class. The lowest rung was occupied by slaves and farmers. Despite the rigid structure, social mobility was achievable, particularly through acquiring literacy and securing government employment.\"}',\n",
       " '{\"grades 3-5\": \"Mr. Jones, a teacher, started an experiment called the Third Wave to show how people follow rules even if they\\'re bad. He made his class very strict and gave them a special salute. More students joined and they all followed the rules. But it got too big and Mr. Jones had to stop it. He told them it was all an experiment to show how people can do bad things if they think it\\'s for a good cause.\",\\n\\n \"grades 6-8\": \"The Third Wave experiment was started by a teacher named Mr. Jones to demonstrate how people can blindly follow authority. He enforced strict discipline in his class and created a salute, which all students obeyed. The experiment grew rapidly, with students from all over the school joining. However, as the students\\' discipline and loyalty became extreme, Mr. Jones felt it was getting out of control. He ended the experiment by revealing it was all a demonstration of how people can justify harmful actions in the name of a cause.\",\\n\\n \"grades 9-12\": \"The Third Wave experiment, initiated by history teacher Ron Jones, was designed to illustrate the dangers of blind obedience to authority. Jones implemented strict discipline, a unique salute, and a sense of community, which resulted in a rapid expansion of the movement beyond his class. However, the students\\' extreme discipline, loyalty, and willingness to report on each other alarmed Jones. Recognizing the experiment was spiraling out of control, he terminated it, revealing its true purpose: to demonstrate how individuals can rationalize harmful actions when they believe they\\'re serving a greater cause.\"}',\n",
       " '{\"grades 3-5\": \"The factory used spoiled meat in many ways. They would can it or make it into sausage. If the meat smelled bad, they would use soda to take away the smell. They also used a strong pickle to hide the smell. If the meat was really bad, they would cut out the bad part and use a hot iron to clean it. They also used old meat and meat that had fallen on the floor to make sausage.\",\\n\\n \"grades 6-8\": \"The factory had several methods to use or hide spoiled meat. They would can it or turn it into sausage. If the meat was sour, they would rub it with soda to remove the smell. They also used a strong pickle solution to destroy the odor. If the meat was rotten, they would remove the bone where the bad part usually was and insert a hot iron. They also used old, rejected sausage and meat that had fallen on the floor to make new sausage. They even used meat that had been stored in dirty conditions and had rat droppings on it.\",\\n\\n \"grades 9-12\": \"The factory employed a variety of methods to utilize or conceal spoiled meat. They would either can it or process it into sausage. If the meat was sour, they would treat it with soda to eliminate the smell. They also used a potent pickle solution to eradicate the odor. If the meat was rotten, they would extract the bone, which was typically the source of the spoilage, and insert a white-hot iron. They also repurposed old, rejected sausage and meat that had fallen on the floor into new sausage. They even used meat that had been stored in unsanitary conditions, contaminated with rat feces. Furthermore, they would mix in meat that had been stored in damp, rat-infested rooms, and even include the poisoned rats that died there into the sausage mix.\"}']"
      ]
     },
     "execution_count": 9,
     "metadata": {},
     "output_type": "execute_result"
    }
   ],
   "source": [
    "GPT4_answers"
   ]
  },
  {
   "cell_type": "code",
   "execution_count": 10,
   "metadata": {},
   "outputs": [
    {
     "data": {
      "text/html": [
       "<div>\n",
       "<style scoped>\n",
       "    .dataframe tbody tr th:only-of-type {\n",
       "        vertical-align: middle;\n",
       "    }\n",
       "\n",
       "    .dataframe tbody tr th {\n",
       "        vertical-align: top;\n",
       "    }\n",
       "\n",
       "    .dataframe thead th {\n",
       "        text-align: right;\n",
       "    }\n",
       "</style>\n",
       "<table border=\"1\" class=\"dataframe\">\n",
       "  <thead>\n",
       "    <tr style=\"text-align: right;\">\n",
       "      <th></th>\n",
       "      <th>grades 3-5</th>\n",
       "      <th>grades 6-8</th>\n",
       "      <th>grades 9-12</th>\n",
       "    </tr>\n",
       "  </thead>\n",
       "  <tbody>\n",
       "    <tr>\n",
       "      <th>0</th>\n",
       "      <td>Aristotle says a good tragedy story should hav...</td>\n",
       "      <td>According to Aristotle, an ideal tragedy shoul...</td>\n",
       "      <td>Aristotle outlines three key elements of an id...</td>\n",
       "    </tr>\n",
       "    <tr>\n",
       "      <th>1</th>\n",
       "      <td>The ancient Egyptian government was like a pyr...</td>\n",
       "      <td>The ancient Egyptian government was structured...</td>\n",
       "      <td>The ancient Egyptian government was a theocrat...</td>\n",
       "    </tr>\n",
       "    <tr>\n",
       "      <th>2</th>\n",
       "      <td>Mr. Jones, a teacher, started an experiment ca...</td>\n",
       "      <td>The Third Wave experiment was started by a tea...</td>\n",
       "      <td>The Third Wave experiment, initiated by histor...</td>\n",
       "    </tr>\n",
       "    <tr>\n",
       "      <th>3</th>\n",
       "      <td>The factory used spoiled meat in many ways. Th...</td>\n",
       "      <td>The factory had several methods to use or hide...</td>\n",
       "      <td>The factory employed a variety of methods to u...</td>\n",
       "    </tr>\n",
       "  </tbody>\n",
       "</table>\n",
       "</div>"
      ],
      "text/plain": [
       "                                          grades 3-5  \\\n",
       "0  Aristotle says a good tragedy story should hav...   \n",
       "1  The ancient Egyptian government was like a pyr...   \n",
       "2  Mr. Jones, a teacher, started an experiment ca...   \n",
       "3  The factory used spoiled meat in many ways. Th...   \n",
       "\n",
       "                                          grades 6-8  \\\n",
       "0  According to Aristotle, an ideal tragedy shoul...   \n",
       "1  The ancient Egyptian government was structured...   \n",
       "2  The Third Wave experiment was started by a tea...   \n",
       "3  The factory had several methods to use or hide...   \n",
       "\n",
       "                                         grades 9-12  \n",
       "0  Aristotle outlines three key elements of an id...  \n",
       "1  The ancient Egyptian government was a theocrat...  \n",
       "2  The Third Wave experiment, initiated by histor...  \n",
       "3  The factory employed a variety of methods to u...  "
      ]
     },
     "execution_count": 10,
     "metadata": {},
     "output_type": "execute_result"
    }
   ],
   "source": [
    "GPT4_answers = list(map(json.loads, GPT4_answers))\n",
    "GPT4_answers_df = pd.DataFrame(GPT4_answers)\n",
    "GPT4_answers_df"
   ]
  },
  {
   "cell_type": "code",
   "execution_count": 11,
   "metadata": {},
   "outputs": [
    {
     "data": {
      "text/html": [
       "<div>\n",
       "<style scoped>\n",
       "    .dataframe tbody tr th:only-of-type {\n",
       "        vertical-align: middle;\n",
       "    }\n",
       "\n",
       "    .dataframe tbody tr th {\n",
       "        vertical-align: top;\n",
       "    }\n",
       "\n",
       "    .dataframe thead th {\n",
       "        text-align: right;\n",
       "    }\n",
       "</style>\n",
       "<table border=\"1\" class=\"dataframe\">\n",
       "  <thead>\n",
       "    <tr style=\"text-align: right;\">\n",
       "      <th></th>\n",
       "      <th>prompt_id</th>\n",
       "      <th>prompt_question</th>\n",
       "      <th>prompt_title</th>\n",
       "      <th>prompt_text</th>\n",
       "      <th>grades 3-5</th>\n",
       "      <th>grades 6-8</th>\n",
       "      <th>grades 9-12</th>\n",
       "    </tr>\n",
       "  </thead>\n",
       "  <tbody>\n",
       "    <tr>\n",
       "      <th>0</th>\n",
       "      <td>39c16e</td>\n",
       "      <td>Summarize at least 3 elements of an ideal trag...</td>\n",
       "      <td>On Tragedy</td>\n",
       "      <td>Chapter 13  As the sequel to what has already ...</td>\n",
       "      <td>Aristotle says a good tragedy story should hav...</td>\n",
       "      <td>According to Aristotle, an ideal tragedy shoul...</td>\n",
       "      <td>Aristotle outlines three key elements of an id...</td>\n",
       "    </tr>\n",
       "    <tr>\n",
       "      <th>1</th>\n",
       "      <td>3b9047</td>\n",
       "      <td>In complete sentences, summarize the structure...</td>\n",
       "      <td>Egyptian Social Structure</td>\n",
       "      <td>Egyptian society was structured like a pyramid...</td>\n",
       "      <td>The ancient Egyptian government was like a pyr...</td>\n",
       "      <td>The ancient Egyptian government was structured...</td>\n",
       "      <td>The ancient Egyptian government was a theocrat...</td>\n",
       "    </tr>\n",
       "    <tr>\n",
       "      <th>2</th>\n",
       "      <td>814d6b</td>\n",
       "      <td>Summarize how the Third Wave developed over su...</td>\n",
       "      <td>The Third Wave</td>\n",
       "      <td>Background  The Third Wave experiment took pla...</td>\n",
       "      <td>Mr. Jones, a teacher, started an experiment ca...</td>\n",
       "      <td>The Third Wave experiment was started by a tea...</td>\n",
       "      <td>The Third Wave experiment, initiated by histor...</td>\n",
       "    </tr>\n",
       "    <tr>\n",
       "      <th>3</th>\n",
       "      <td>ebad26</td>\n",
       "      <td>Summarize the various ways the factory would u...</td>\n",
       "      <td>Excerpt from The Jungle</td>\n",
       "      <td>With one member trimming beef in a cannery, an...</td>\n",
       "      <td>The factory used spoiled meat in many ways. Th...</td>\n",
       "      <td>The factory had several methods to use or hide...</td>\n",
       "      <td>The factory employed a variety of methods to u...</td>\n",
       "    </tr>\n",
       "  </tbody>\n",
       "</table>\n",
       "</div>"
      ],
      "text/plain": [
       "  prompt_id                                    prompt_question  \\\n",
       "0    39c16e  Summarize at least 3 elements of an ideal trag...   \n",
       "1    3b9047  In complete sentences, summarize the structure...   \n",
       "2    814d6b  Summarize how the Third Wave developed over su...   \n",
       "3    ebad26  Summarize the various ways the factory would u...   \n",
       "\n",
       "                prompt_title  \\\n",
       "0                 On Tragedy   \n",
       "1  Egyptian Social Structure   \n",
       "2             The Third Wave   \n",
       "3    Excerpt from The Jungle   \n",
       "\n",
       "                                         prompt_text  \\\n",
       "0  Chapter 13  As the sequel to what has already ...   \n",
       "1  Egyptian society was structured like a pyramid...   \n",
       "2  Background  The Third Wave experiment took pla...   \n",
       "3  With one member trimming beef in a cannery, an...   \n",
       "\n",
       "                                          grades 3-5  \\\n",
       "0  Aristotle says a good tragedy story should hav...   \n",
       "1  The ancient Egyptian government was like a pyr...   \n",
       "2  Mr. Jones, a teacher, started an experiment ca...   \n",
       "3  The factory used spoiled meat in many ways. Th...   \n",
       "\n",
       "                                          grades 6-8  \\\n",
       "0  According to Aristotle, an ideal tragedy shoul...   \n",
       "1  The ancient Egyptian government was structured...   \n",
       "2  The Third Wave experiment was started by a tea...   \n",
       "3  The factory had several methods to use or hide...   \n",
       "\n",
       "                                         grades 9-12  \n",
       "0  Aristotle outlines three key elements of an id...  \n",
       "1  The ancient Egyptian government was a theocrat...  \n",
       "2  The Third Wave experiment, initiated by histor...  \n",
       "3  The factory employed a variety of methods to u...  "
      ]
     },
     "execution_count": 11,
     "metadata": {},
     "output_type": "execute_result"
    }
   ],
   "source": [
    "prompts_df = pd.concat([prompts_df, GPT4_answers_df], axis=1)\n",
    "prompts_df"
   ]
  },
  {
   "cell_type": "code",
   "execution_count": 12,
   "metadata": {},
   "outputs": [],
   "source": [
    "prompts_df.to_csv(os.path.join('data', 'prompts_GPT4_answers.csv'), index=False)"
   ]
  },
  {
   "cell_type": "code",
   "execution_count": null,
   "metadata": {},
   "outputs": [],
   "source": []
  }
 ],
 "metadata": {
  "kernelspec": {
   "display_name": "edxclass2",
   "language": "python",
   "name": "python3"
  },
  "language_info": {
   "codemirror_mode": {
    "name": "ipython",
    "version": 3
   },
   "file_extension": ".py",
   "mimetype": "text/x-python",
   "name": "python",
   "nbconvert_exporter": "python",
   "pygments_lexer": "ipython3",
   "version": "3.9.16"
  },
  "orig_nbformat": 4
 },
 "nbformat": 4,
 "nbformat_minor": 2
}
