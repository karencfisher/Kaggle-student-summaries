{
 "cells": [
  {
   "cell_type": "code",
   "execution_count": 1,
   "metadata": {},
   "outputs": [],
   "source": [
    "import os\n",
    "import pandas as pd\n",
    "import numpy as np\n",
    "import matplotlib.pyplot as plt\n",
    "import seaborn as sns\n",
    "\n",
    "from sklearn.preprocessing import StandardScaler, MinMaxScaler\n",
    "from sklearn.model_selection import train_test_split, RepeatedKFold, cross_val_score\n",
    "from sklearn.tree import DecisionTreeRegressor\n",
    "from sklearn.linear_model import LinearRegression\n",
    "from sklearn.ensemble import RandomForestRegressor\n",
    "from sklearn.metrics import make_scorer\n",
    "from sklearn.multioutput import MultiOutputRegressor\n"
   ]
  },
  {
   "cell_type": "code",
   "execution_count": 2,
   "metadata": {},
   "outputs": [
    {
     "data": {
      "text/html": [
       "<div>\n",
       "<style scoped>\n",
       "    .dataframe tbody tr th:only-of-type {\n",
       "        vertical-align: middle;\n",
       "    }\n",
       "\n",
       "    .dataframe tbody tr th {\n",
       "        vertical-align: top;\n",
       "    }\n",
       "\n",
       "    .dataframe thead th {\n",
       "        text-align: right;\n",
       "    }\n",
       "</style>\n",
       "<table border=\"1\" class=\"dataframe\">\n",
       "  <thead>\n",
       "    <tr style=\"text-align: right;\">\n",
       "      <th></th>\n",
       "      <th>content</th>\n",
       "      <th>wording</th>\n",
       "      <th>keyword_overlap</th>\n",
       "      <th>summary_lengths</th>\n",
       "      <th>vocab_size</th>\n",
       "      <th>Average_sentence_lengths_ratio</th>\n",
       "      <th>objectivity</th>\n",
       "      <th>Semantic_similarity</th>\n",
       "      <th>flesch_reading_ease</th>\n",
       "      <th>spell_errors</th>\n",
       "    </tr>\n",
       "  </thead>\n",
       "  <tbody>\n",
       "    <tr>\n",
       "      <th>0</th>\n",
       "      <td>0.205683</td>\n",
       "      <td>0.380538</td>\n",
       "      <td>4</td>\n",
       "      <td>43</td>\n",
       "      <td>36</td>\n",
       "      <td>1.075000</td>\n",
       "      <td>0.835</td>\n",
       "      <td>0.854158</td>\n",
       "      <td>1.136179</td>\n",
       "      <td>2</td>\n",
       "    </tr>\n",
       "    <tr>\n",
       "      <th>1</th>\n",
       "      <td>-0.548304</td>\n",
       "      <td>0.506755</td>\n",
       "      <td>5</td>\n",
       "      <td>25</td>\n",
       "      <td>19</td>\n",
       "      <td>1.785714</td>\n",
       "      <td>0.947</td>\n",
       "      <td>0.889245</td>\n",
       "      <td>1.319293</td>\n",
       "      <td>0</td>\n",
       "    </tr>\n",
       "    <tr>\n",
       "      <th>2</th>\n",
       "      <td>3.128928</td>\n",
       "      <td>4.231226</td>\n",
       "      <td>19</td>\n",
       "      <td>177</td>\n",
       "      <td>119</td>\n",
       "      <td>2.011364</td>\n",
       "      <td>0.816</td>\n",
       "      <td>0.877361</td>\n",
       "      <td>0.906089</td>\n",
       "      <td>3</td>\n",
       "    </tr>\n",
       "    <tr>\n",
       "      <th>3</th>\n",
       "      <td>-0.210614</td>\n",
       "      <td>-0.471415</td>\n",
       "      <td>3</td>\n",
       "      <td>18</td>\n",
       "      <td>16</td>\n",
       "      <td>1.227273</td>\n",
       "      <td>1.000</td>\n",
       "      <td>0.706003</td>\n",
       "      <td>0.944525</td>\n",
       "      <td>4</td>\n",
       "    </tr>\n",
       "    <tr>\n",
       "      <th>4</th>\n",
       "      <td>3.272894</td>\n",
       "      <td>3.219757</td>\n",
       "      <td>12</td>\n",
       "      <td>151</td>\n",
       "      <td>101</td>\n",
       "      <td>1.078571</td>\n",
       "      <td>0.898</td>\n",
       "      <td>0.866760</td>\n",
       "      <td>1.150467</td>\n",
       "      <td>11</td>\n",
       "    </tr>\n",
       "  </tbody>\n",
       "</table>\n",
       "</div>"
      ],
      "text/plain": [
       "    content   wording  keyword_overlap  summary_lengths  vocab_size  \\\n",
       "0  0.205683  0.380538                4               43          36   \n",
       "1 -0.548304  0.506755                5               25          19   \n",
       "2  3.128928  4.231226               19              177         119   \n",
       "3 -0.210614 -0.471415                3               18          16   \n",
       "4  3.272894  3.219757               12              151         101   \n",
       "\n",
       "   Average_sentence_lengths_ratio  objectivity  Semantic_similarity  \\\n",
       "0                        1.075000        0.835             0.854158   \n",
       "1                        1.785714        0.947             0.889245   \n",
       "2                        2.011364        0.816             0.877361   \n",
       "3                        1.227273        1.000             0.706003   \n",
       "4                        1.078571        0.898             0.866760   \n",
       "\n",
       "   flesch_reading_ease  spell_errors  \n",
       "0             1.136179             2  \n",
       "1             1.319293             0  \n",
       "2             0.906089             3  \n",
       "3             0.944525             4  \n",
       "4             1.150467            11  "
      ]
     },
     "execution_count": 2,
     "metadata": {},
     "output_type": "execute_result"
    }
   ],
   "source": [
    "df = pd.read_csv(os.path.join('data', 'features.csv'))\n",
    "df.head()\n"
   ]
  },
  {
   "cell_type": "code",
   "execution_count": 3,
   "metadata": {},
   "outputs": [
    {
     "data": {
      "text/plain": [
       "((5732, 8), (1433, 8), (5732, 2), (1433, 2))"
      ]
     },
     "execution_count": 3,
     "metadata": {},
     "output_type": "execute_result"
    }
   ],
   "source": [
    "X = df.iloc[:, 2:]\n",
    "y = df.iloc[:, :2]\n",
    "\n",
    "X_train, X_test, y_train, y_test = train_test_split(X, y, test_size=0.2, random_state=42)\n",
    "X_train.shape, X_test.shape, y_train.shape, y_test.shape"
   ]
  },
  {
   "cell_type": "code",
   "execution_count": 4,
   "metadata": {},
   "outputs": [],
   "source": [
    "scaler = MinMaxScaler()\n",
    "X_train_scale = scaler.fit_transform(X_train)\n",
    "X_test_scale = scaler.transform(X_test)\n"
   ]
  },
  {
   "cell_type": "code",
   "execution_count": 5,
   "metadata": {},
   "outputs": [],
   "source": [
    "def mcrmse(y_true, y_pred):\n",
    "  colwise_mse = np.mean(np.square(y_true - y_pred), axis=1)\n",
    "  return np.mean(np.sqrt(colwise_mse))\n",
    "\n",
    "mcrmse_scorer = make_scorer(mcrmse, greater_is_better=False)"
   ]
  },
  {
   "cell_type": "markdown",
   "metadata": {},
   "source": [
    "### Tree Decision Regressor"
   ]
  },
  {
   "cell_type": "code",
   "execution_count": 6,
   "metadata": {},
   "outputs": [
    {
     "name": "stderr",
     "output_type": "stream",
     "text": [
      "[Parallel(n_jobs=-1)]: Using backend LokyBackend with 4 concurrent workers.\n"
     ]
    },
    {
     "name": "stdout",
     "output_type": "stream",
     "text": [
      "scores: [0.69351286 0.7078456  0.6739986  0.70124276 0.71646035]\n",
      "Mean score:  0.6986 STD:  0.0144\n"
     ]
    },
    {
     "name": "stderr",
     "output_type": "stream",
     "text": [
      "[Parallel(n_jobs=-1)]: Done   5 out of   5 | elapsed:    2.8s finished\n"
     ]
    }
   ],
   "source": [
    "tree = DecisionTreeRegressor()\n",
    "\n",
    "n_scores = cross_val_score(\n",
    "    tree, \n",
    "    X_train_scale, \n",
    "    y_train, \n",
    "    cv=5,\n",
    "    scoring=mcrmse_scorer,\n",
    "    verbose=2,\n",
    "    n_jobs=-1\n",
    ")\n",
    "\n",
    "n_scores = np.absolute(n_scores)\n",
    "print(f'scores: {n_scores}')\n",
    "print(f'Mean score: {np.mean(n_scores): .4f} STD: {np.std(n_scores): .4f}')"
   ]
  },
  {
   "cell_type": "code",
   "execution_count": 8,
   "metadata": {},
   "outputs": [
    {
     "name": "stdout",
     "output_type": "stream",
     "text": [
      "MCRMSE = 0.697814603686775\n"
     ]
    }
   ],
   "source": [
    "tree.fit(X_train_scale, y_train)\n",
    "y_pred = tree.predict(X_test_scale)\n",
    "score = mcrmse(y_test, y_pred)\n",
    "print(f'MCRMSE = {score}')"
   ]
  },
  {
   "cell_type": "markdown",
   "metadata": {},
   "source": [
    "### Random Forest Regressor"
   ]
  },
  {
   "cell_type": "code",
   "execution_count": 10,
   "metadata": {},
   "outputs": [
    {
     "name": "stderr",
     "output_type": "stream",
     "text": [
      "[Parallel(n_jobs=-1)]: Using backend LokyBackend with 4 concurrent workers.\n"
     ]
    },
    {
     "name": "stdout",
     "output_type": "stream",
     "text": [
      "scores: [0.50917815 0.51239588 0.49370415 0.51559213 0.51227835]\n",
      "Mean score:  0.5086 STD:  0.0077\n"
     ]
    },
    {
     "name": "stderr",
     "output_type": "stream",
     "text": [
      "[Parallel(n_jobs=-1)]: Done   5 out of   5 | elapsed:   31.3s finished\n"
     ]
    }
   ],
   "source": [
    "rf = RandomForestRegressor()\n",
    "wrapper = MultiOutputRegressor(rf)\n",
    "\n",
    "n_scores = cross_val_score(\n",
    "    wrapper, \n",
    "    X_train_scale, \n",
    "    y_train, \n",
    "    cv=5,\n",
    "    scoring=mcrmse_scorer,\n",
    "    verbose=2,\n",
    "    n_jobs=-1\n",
    ")\n",
    "\n",
    "n_scores = np.absolute(n_scores)\n",
    "print(f'scores: {n_scores}')\n",
    "print(f'Mean score: {np.mean(n_scores): .4f} STD: {np.std(n_scores): .4f}')\n"
   ]
  },
  {
   "cell_type": "code",
   "execution_count": 11,
   "metadata": {},
   "outputs": [
    {
     "name": "stdout",
     "output_type": "stream",
     "text": [
      "MCRMSE = 0.5132062094658244\n"
     ]
    }
   ],
   "source": [
    "wrapper.fit(X_train_scale, y_train)\n",
    "y_pred = wrapper.predict(X_test_scale)\n",
    "score = mcrmse(y_test, y_pred)\n",
    "print(f'MCRMSE = {score}')"
   ]
  },
  {
   "cell_type": "markdown",
   "metadata": {},
   "source": [
    "### Linear Regression"
   ]
  },
  {
   "cell_type": "code",
   "execution_count": 12,
   "metadata": {},
   "outputs": [
    {
     "name": "stderr",
     "output_type": "stream",
     "text": [
      "[Parallel(n_jobs=-1)]: Using backend LokyBackend with 4 concurrent workers.\n"
     ]
    },
    {
     "name": "stdout",
     "output_type": "stream",
     "text": [
      "scores: [0.60209051 0.60071544 0.57630361 0.59440548 0.59800217]\n",
      "Mean score:  0.5943 STD:  0.0094\n"
     ]
    },
    {
     "name": "stderr",
     "output_type": "stream",
     "text": [
      "[Parallel(n_jobs=-1)]: Done   5 out of   5 | elapsed:    1.8s finished\n"
     ]
    }
   ],
   "source": [
    "lr = LinearRegression()\n",
    "\n",
    "n_scores = cross_val_score(\n",
    "    lr, \n",
    "    X_train_scale, \n",
    "    y_train, \n",
    "    cv=5,\n",
    "    scoring=mcrmse_scorer,\n",
    "    verbose=2,\n",
    "    n_jobs=-1\n",
    ")\n",
    "\n",
    "n_scores = np.absolute(n_scores)\n",
    "print(f'scores: {n_scores}')\n",
    "print(f'Mean score: {np.mean(n_scores): .4f} STD: {np.std(n_scores): .4f}')"
   ]
  },
  {
   "cell_type": "code",
   "execution_count": 13,
   "metadata": {},
   "outputs": [
    {
     "name": "stdout",
     "output_type": "stream",
     "text": [
      "MCRMSE = 0.5928096875186115\n"
     ]
    }
   ],
   "source": [
    "lr.fit(X_train_scale, y_train)\n",
    "y_pred = lr.predict(X_test_scale)\n",
    "score = mcrmse(y_test, y_pred)\n",
    "print(f'MCRMSE = {score}')"
   ]
  }
 ],
 "metadata": {
  "kernelspec": {
   "display_name": "edxclass2",
   "language": "python",
   "name": "python3"
  },
  "language_info": {
   "codemirror_mode": {
    "name": "ipython",
    "version": 3
   },
   "file_extension": ".py",
   "mimetype": "text/x-python",
   "name": "python",
   "nbconvert_exporter": "python",
   "pygments_lexer": "ipython3",
   "version": "3.9.16"
  },
  "orig_nbformat": 4
 },
 "nbformat": 4,
 "nbformat_minor": 2
}
